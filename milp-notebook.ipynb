{
 "cells": [
  {
   "cell_type": "code",
   "execution_count": 1,
   "metadata": {
    "execution": {
     "iopub.execute_input": "2022-11-22T06:55:36.613408Z",
     "iopub.status.busy": "2022-11-22T06:55:36.613006Z",
     "iopub.status.idle": "2022-11-22T06:55:37.066775Z",
     "shell.execute_reply": "2022-11-22T06:55:37.065650Z",
     "shell.execute_reply.started": "2022-11-22T06:55:36.613377Z"
    }
   },
   "outputs": [],
   "source": [
    "import pyomo.environ as pyo\n",
    "from pyomo.environ import *\n",
    "from pyomo.opt import SolverFactory\n",
    "import random\n",
    "import matplotlib.pyplot as plt"
   ]
  },
  {
   "cell_type": "code",
   "execution_count": 2,
   "metadata": {
    "execution": {
     "iopub.execute_input": "2022-11-22T06:52:48.405778Z",
     "iopub.status.busy": "2022-11-22T06:52:48.405392Z",
     "iopub.status.idle": "2022-11-22T06:53:06.343106Z",
     "shell.execute_reply": "2022-11-22T06:53:06.341547Z",
     "shell.execute_reply.started": "2022-11-22T06:52:48.405737Z"
    }
   },
   "outputs": [],
   "source": [
    "#!pip install pyomo"
   ]
  },
  {
   "cell_type": "code",
   "execution_count": 3,
   "metadata": {
    "execution": {
     "iopub.execute_input": "2022-11-22T06:34:45.113725Z",
     "iopub.status.busy": "2022-11-22T06:34:45.113258Z",
     "iopub.status.idle": "2022-11-22T06:34:45.148995Z",
     "shell.execute_reply": "2022-11-22T06:34:45.147682Z",
     "shell.execute_reply.started": "2022-11-22T06:34:45.113631Z"
    }
   },
   "outputs": [],
   "source": [
    "import pandas as pd"
   ]
  },
  {
   "cell_type": "code",
   "execution_count": 7,
   "metadata": {},
   "outputs": [],
   "source": [
    "num_edges = 82\n",
    "num_nodes = 48\n",
    "oper_costs = range(5,11)\n",
    "num_cnfNumber = 5\n",
    "num_sfcRequests = 3\n",
    "end_delays = range(30,51)\n",
    "cpu_bounds = range(12,15+1)  #(4,6+1)\n",
    "bandwidth_bounds = range(4,6+1)"
   ]
  },
  {
   "cell_type": "code",
   "execution_count": 8,
   "metadata": {},
   "outputs": [],
   "source": [
    "EdgeList=[(1,2),\n",
    "(1,3),\n",
    "(2,3),\n",
    "(2,5),\n",
    "(3,5),\n",
    "(3,4),\n",
    "(5,6),\n",
    "(4,6),\n",
    "(5,16),\n",
    "(6,16),\n",
    "(4,7),\n",
    "(4,8),\n",
    "(7,16),\n",
    "(7,9),\n",
    "(9,8),\n",
    "(8,12),\n",
    "(8,11),\n",
    "(9,11),\n",
    "(9,10),\n",
    "(11,12),\n",
    "(10,11),\n",
    "(12,13),\n",
    "(11,13),\n",
    "(13,15),\n",
    "(13,14),\n",
    "(14,15),\n",
    "(10,14),\n",
    "(15,23),\n",
    "(14,20),\n",
    "(10,21),\n",
    "(20,23),\n",
    "(10,16),\n",
    "(16,17),\n",
    "(16,21),\n",
    "(20,21),\n",
    "(17,18),\n",
    "(17,21),\n",
    "(21,24),\n",
    "(20,24),\n",
    "(23,24),\n",
    "(18,19),\n",
    "(19,27),\n",
    "(22,24),\n",
    "(22,26),\n",
    "(24,25),\n",
    "(25,26),\n",
    "(25,31),\n",
    "(25,30),\n",
    "(26,27),\n",
    "(27,30),\n",
    "(28,30),\n",
    "(27,28),\n",
    "(27,32),\n",
    "(27,29),\n",
    "(28,29),\n",
    "(28,31),\n",
    "(29,34),\n",
    "(37,38),\n",
    "(34,38),\n",
    "(31,37),\n",
    "(37,40),\n",
    "(38,40),\n",
    "(32,34),\n",
    "(38,39),\n",
    "(34,35),\n",
    "(32,33),\n",
    "(39,40),\n",
    "(33,36),\n",
    "(35,36),\n",
    "(35,39),\n",
    "(39,45),\n",
    "(36,41),\n",
    "(41,45),\n",
    "(41,42),\n",
    "(41,44),\n",
    "(44,45),\n",
    "(45,46),\n",
    "(42,43),\n",
    "(44,47),\n",
    "(46,47),\n",
    "(43,48),\n",
    "(47,48)]\n",
    "\n",
    "# EdgeList=[]\n",
    "# while len(EdgeList)<21:\n",
    "#     n1 = random.choice(range(0,num_nodes))\n",
    "#     n2 = random.choice(range(0,num_nodes))\n",
    "#     if(n1 == n2):\n",
    "#         continue\n",
    "#     elif(n1<n2):\n",
    "#         EdgeList.append((n1,n2))\n",
    "#     else:\n",
    "#         if((n2,n1) not in EdgeList):\n",
    "#             EdgeList.append((n2,n1))"
   ]
  },
  {
   "cell_type": "code",
   "execution_count": 33,
   "metadata": {},
   "outputs": [],
   "source": [
    "L={(1, 2): 1.5884322210000001,\n",
    " (1, 3): 1.366945662,\n",
    " (2, 3): 0.5950783458000001,\n",
    " (2, 5): 0.6067530891999999,\n",
    " (3, 5): 0.42462709319999997,\n",
    " (3, 4): 0.6120901147,\n",
    " (5, 6): 0.7058216254,\n",
    " (4, 6): 0.2038076622,\n",
    " (5, 16): 0.9106299799,\n",
    " (6, 16): 0.623764858,\n",
    " (4, 7): 0.2635156352,\n",
    " (4, 8): 0.8185662896,\n",
    " (7, 16): 0.6007489355,\n",
    " (7, 9): 0.5447101675,\n",
    " (9, 8): 0.31888727499999997,\n",
    " (8, 12): 0.4252942214,\n",
    " (8, 11): 0.3902699914,\n",
    " (9, 11): 0.2641827634,\n",
    " (9, 10): 0.35524576139999997,\n",
    " (11, 12): 0.2204858669,\n",
    " (10, 11): 0.2491723791,\n",
    " (12, 13): 0.1307571253,\n",
    " (11, 13): 0.1010699208,\n",
    " (13, 15): 0.09606645942,\n",
    " (13, 14): 0.1581093811,\n",
    " (14, 15): 0.1217508947,\n",
    " (10, 14): 0.3215557878,\n",
    " (15, 23): 0.5050160401,\n",
    " (14, 20): 0.2892000705,\n",
    " (10, 21): 0.3916042478,\n",
    " (20, 23): 0.4082824525,\n",
    " (10, 16): 0.7635282139,\n",
    " (16, 17): 0.8475863658999999,\n",
    " (16, 21): 0.7048209332,\n",
    " (20, 21): 0.5470451161,\n",
    " (17, 18): 0.1981370725,\n",
    " (17, 21): 0.6431115755,\n",
    " (21, 24): 0.8365787508,\n",
    " (20, 24): 0.8766064422,\n",
    " (23, 24): 0.6197620889000001,\n",
    " (18, 19): 0.255843661,\n",
    " (19, 27): 0.49400842500000003,\n",
    " (22, 24): 0.1010699208,\n",
    " (22, 26): 0.3579142741,\n",
    " (24, 25): 0.2218201233,\n",
    " (25, 26): 0.28152809630000003,\n",
    " (25, 31): 1.2188432040000001,\n",
    " (25, 30): 0.2985398652,\n",
    " (26, 27): 0.03335640952,\n",
    " (27, 30): 0.13909622770000002,\n",
    " (28, 30): 0.1734533295,\n",
    " (27, 28): 0.13008999710000002,\n",
    " (27, 32): 0.8455849813,\n",
    " (27, 29): 0.2581786097,\n",
    " (28, 29): 0.12308515109999998,\n",
    " (28, 31): 0.2538422764,\n",
    " (29, 34): 0.4783309125,\n",
    " (37, 38): 0.24850525089999997,\n",
    " (34, 38): 0.2394990204,\n",
    " (31, 37): 0.2194851746,\n",
    " (37, 40): 0.5226949371999999,\n",
    " (38, 40): 0.5313676036999999,\n",
    " (32, 34): 0.472993887,\n",
    " (38, 39): 0.6484486011,\n",
    " (34, 35): 0.5380388856,\n",
    " (32, 33): 0.4056139398,\n",
    " (39, 40): 0.8379130070999999,\n",
    " (33, 36): 0.8555919042,\n",
    " (35, 36): 0.44297311840000003,\n",
    " (35, 39): 0.22081943099999998,\n",
    " (39, 45): 0.5553842185,\n",
    " (36, 41): 0.49334129679999994,\n",
    " (41, 45): 0.662124729,\n",
    " (41, 42): 0.178790355,\n",
    " (41, 44): 0.3949398887,\n",
    " (44, 45): 0.4936748609,\n",
    " (45, 46): 0.6904776771,\n",
    " (42, 43): 0.33456478749999996,\n",
    " (44, 47): 0.5687267823000001,\n",
    " (46, 47): 0.41995719589999997,\n",
    " (43, 48): 2.5284158420000002,\n",
    " (47, 48): 2.247221309}"
   ]
  },
  {
   "cell_type": "code",
   "execution_count": 10,
   "metadata": {},
   "outputs": [],
   "source": [
    "init_cpu = 100\n",
    "init_bandwidth = 100\n",
    "init_operationalCost = [ random.choice(oper_costs) for i in range(num_nodes)]\n",
    "init_endDelay = [random.choice(end_delays) for i in range(num_sfcRequests)]\n",
    "init_bandwidthReq = [random.choice(bandwidth_bounds) for i in range(num_sfcRequests)]\n",
    "\n",
    "init_cpuReq = {}\n",
    "for i in range(num_sfcRequests):\n",
    "    for j in range(num_cnfNumber):\n",
    "        init_cpuReq[i,j] = random.choice(cpu_bounds)"
   ]
  },
  {
   "cell_type": "markdown",
   "metadata": {},
   "source": [
    "# Model Definition"
   ]
  },
  {
   "cell_type": "code",
   "execution_count": 11,
   "metadata": {},
   "outputs": [],
   "source": [
    "model = pyo.ConcreteModel()"
   ]
  },
  {
   "cell_type": "code",
   "execution_count": 12,
   "metadata": {},
   "outputs": [],
   "source": [
    "model.set_cnfNumber = pyo.RangeSet(0,num_cnfNumber-1) # j {0,1,2,3,4}\n",
    "model.set_sfcRequests = pyo.RangeSet(0,num_sfcRequests-1) # i {0,1,2} \n",
    "\n",
    "# 14 nodes and 21 edges - NSFNET\n",
    "model.set_nodes = pyo.RangeSet(0,num_nodes-1) # v (0,1,...,13)\n",
    "model.set_edges = pyo.RangeSet(0,num_edges-1) # (u,v) (0,1,...,21)"
   ]
  },
  {
   "cell_type": "markdown",
   "metadata": {},
   "source": [
    "# Variables and Parameters"
   ]
  },
  {
   "cell_type": "code",
   "execution_count": 13,
   "metadata": {},
   "outputs": [],
   "source": [
    "# L - to be done"
   ]
  },
  {
   "cell_type": "code",
   "execution_count": 14,
   "metadata": {},
   "outputs": [],
   "source": [
    "model.y = pyo.Var(model.set_sfcRequests, model.set_cnfNumber,model.set_nodes,domain=pyo.Binary)"
   ]
  },
  {
   "cell_type": "code",
   "execution_count": 15,
   "metadata": {},
   "outputs": [],
   "source": [
    "model.z = pyo.Var(model.set_sfcRequests, model.set_edges, domain=pyo.Binary)"
   ]
  },
  {
   "cell_type": "code",
   "execution_count": 16,
   "metadata": {},
   "outputs": [],
   "source": [
    "model.C = pyo.Param(model.set_nodes, initialize=init_cpu)"
   ]
  },
  {
   "cell_type": "code",
   "execution_count": 17,
   "metadata": {},
   "outputs": [],
   "source": [
    "model.B = pyo.Param(model.set_edges, initialize=init_bandwidth)"
   ]
  },
  {
   "cell_type": "code",
   "execution_count": 18,
   "metadata": {},
   "outputs": [],
   "source": [
    "model.W = pyo.Param(model.set_nodes, initialize=init_operationalCost)"
   ]
  },
  {
   "cell_type": "code",
   "execution_count": 19,
   "metadata": {},
   "outputs": [],
   "source": [
    "model.l = pyo.Param(model.set_sfcRequests, initialize=init_endDelay)"
   ]
  },
  {
   "cell_type": "code",
   "execution_count": 20,
   "metadata": {},
   "outputs": [],
   "source": [
    "model.c = pyo.Param(model.set_sfcRequests, model.set_cnfNumber, initialize=init_cpuReq)"
   ]
  },
  {
   "cell_type": "code",
   "execution_count": 21,
   "metadata": {},
   "outputs": [],
   "source": [
    "model.b = pyo.Param(model.set_sfcRequests, initialize=init_bandwidthReq)"
   ]
  },
  {
   "cell_type": "code",
   "execution_count": 22,
   "metadata": {},
   "outputs": [],
   "source": [
    "y = model.y\n",
    "z = model.z\n",
    "C = model.C\n",
    "B = model.B\n",
    "W = model.W\n",
    "l = model.l\n",
    "c = model.c\n",
    "b = model.b"
   ]
  },
  {
   "cell_type": "markdown",
   "metadata": {},
   "source": [
    "# Constraints"
   ]
  },
  {
   "cell_type": "code",
   "execution_count": 23,
   "metadata": {},
   "outputs": [],
   "source": [
    "model.cpuConstraint = pyo.ConstraintList()\n",
    "for v in range(num_nodes):\n",
    "     model.cpuConstraint.add(\n",
    "         expr=sum(sum(y[i,j,v]*c[i,j] for j in range(num_cnfNumber)) for i in range(num_sfcRequests)) <= C[v]\n",
    "     )"
   ]
  },
  {
   "cell_type": "code",
   "execution_count": 24,
   "metadata": {},
   "outputs": [],
   "source": [
    "model.bandwidthConstraint = pyo.ConstraintList()\n",
    "for _,e in enumerate(EdgeList):\n",
    "    model.bandwidthConstraint.add(\n",
    "        expr=sum(z[i,_]*b[i] for i in range(num_sfcRequests)) <= B[_]\n",
    "    )"
   ]
  },
  {
   "cell_type": "code",
   "execution_count": 25,
   "metadata": {},
   "outputs": [],
   "source": [
    "model.delayConstraint = pyo.ConstraintList()\n",
    "# for _,e in enumerate(EdgeList):\n",
    "for i in range(num_sfcRequests):\n",
    "    model.delayConstraint.add(\n",
    "        expr=sum(z[i,_]*L[EdgeList[_][0],EdgeList[_][1]] for _ in range(num_edges)) <= l[i]\n",
    "    )"
   ]
  },
  {
   "cell_type": "code",
   "execution_count": 26,
   "metadata": {},
   "outputs": [],
   "source": [
    "model.placementConstraint = pyo.ConstraintList()\n",
    "for i in range(num_sfcRequests):\n",
    "    for j in range(num_cnfNumber):\n",
    "        model.placementConstraint.add(\n",
    "            expr=sum(y[i,j,v] for v in range(num_nodes)) == 1\n",
    "        )"
   ]
  },
  {
   "cell_type": "markdown",
   "metadata": {},
   "source": [
    "# Objective Function"
   ]
  },
  {
   "cell_type": "code",
   "execution_count": 27,
   "metadata": {},
   "outputs": [],
   "source": [
    "model.objective = pyo.Objective(\n",
    "    expr=sum(\n",
    "            sum(\n",
    "                sum(y[i,j,v]*c[i,j]*W[v] for v in range(num_nodes))\n",
    "                for j in range(num_cnfNumber)\n",
    "            )\n",
    "        for i in range(num_sfcRequests)\n",
    "    ), sense=minimize\n",
    ")"
   ]
  },
  {
   "cell_type": "markdown",
   "metadata": {},
   "source": [
    "# Solving the Model using IBM Cplex"
   ]
  },
  {
   "cell_type": "code",
   "execution_count": 28,
   "metadata": {},
   "outputs": [],
   "source": [
    "optimizer = SolverFactory('cplex')"
   ]
  },
  {
   "cell_type": "code",
   "execution_count": 29,
   "metadata": {},
   "outputs": [
    {
     "data": {
      "text/plain": [
       "{'Problem': [{'Name': 'tmpwlxumu9u', 'Lower bound': 1000.0, 'Upper bound': 1000.0, 'Number of objectives': 1, 'Number of constraints': 149, 'Number of variables': 967, 'Number of nonzeros': 1933, 'Sense': 'minimize'}], 'Solver': [{'Status': 'ok', 'User time': 0.59, 'Termination condition': 'optimal', 'Termination message': 'MIP - Integer optimal solution\\\\x3a Objective = 1.0000000000e+03', 'Statistics': {'Branch and bound': {'Number of bounded subproblems': 0, 'Number of created subproblems': 0}}, 'Error rc': 0, 'Time': 2.9033288955688477}], 'Solution': [OrderedDict([('number of solutions', 0), ('number of solutions displayed', 0)])]}"
      ]
     },
     "execution_count": 29,
     "metadata": {},
     "output_type": "execute_result"
    }
   ],
   "source": [
    "optimizer.solve(model)"
   ]
  },
  {
   "cell_type": "markdown",
   "metadata": {},
   "source": [
    "# Printing the outputs"
   ]
  },
  {
   "cell_type": "code",
   "execution_count": 30,
   "metadata": {},
   "outputs": [],
   "source": [
    "Oper_cost = sum(\n",
    "                sum(\n",
    "                    sum(y[i,j,v]*c[i,j]*W[v] for v in range(num_nodes))\n",
    "                    for j in range(num_cnfNumber)\n",
    "                )\n",
    "            for i in range(num_sfcRequests)\n",
    "    )"
   ]
  },
  {
   "cell_type": "code",
   "execution_count": 31,
   "metadata": {},
   "outputs": [
    {
     "name": "stdout",
     "output_type": "stream",
     "text": [
      "Operational Cost of the current setting:  1000.0\n"
     ]
    }
   ],
   "source": [
    "print(\"Operational Cost of the current setting: \",pyo.value(Oper_cost))"
   ]
  },
  {
   "cell_type": "code",
   "execution_count": 32,
   "metadata": {},
   "outputs": [
    {
     "name": "stdout",
     "output_type": "stream",
     "text": [
      "SFC Number:  0 ,CNF Number:  0 ,Node =>  46\n",
      "SFC Number:  0 ,CNF Number:  1 ,Node =>  33\n",
      "SFC Number:  0 ,CNF Number:  2 ,Node =>  33\n",
      "SFC Number:  0 ,CNF Number:  3 ,Node =>  46\n",
      "SFC Number:  0 ,CNF Number:  4 ,Node =>  46\n",
      "SFC Number:  1 ,CNF Number:  0 ,Node =>  46\n",
      "SFC Number:  1 ,CNF Number:  1 ,Node =>  46\n",
      "SFC Number:  1 ,CNF Number:  2 ,Node =>  46\n",
      "SFC Number:  1 ,CNF Number:  3 ,Node =>  33\n",
      "SFC Number:  1 ,CNF Number:  4 ,Node =>  28\n",
      "SFC Number:  2 ,CNF Number:  0 ,Node =>  33\n",
      "SFC Number:  2 ,CNF Number:  1 ,Node =>  33\n",
      "SFC Number:  2 ,CNF Number:  2 ,Node =>  33\n",
      "SFC Number:  2 ,CNF Number:  3 ,Node =>  46\n",
      "SFC Number:  2 ,CNF Number:  4 ,Node =>  33\n"
     ]
    }
   ],
   "source": [
    "for i in range(num_sfcRequests):\n",
    "    for j in range(num_cnfNumber):\n",
    "        for v in range(num_nodes):\n",
    "            if(pyo.value(y[i,j,v])):\n",
    "                print(\"SFC Number: \",i,\",CNF Number: \",j,\",Node => \",v)"
   ]
  },
  {
   "cell_type": "code",
   "execution_count": null,
   "metadata": {},
   "outputs": [],
   "source": [
    "for i in range(num_sfcRequests):\n",
    "    for e in range(num_edges):\n",
    "        if(pyo.value(z[i,e])):\n",
    "            print(i,e)"
   ]
  },
  {
   "cell_type": "code",
   "execution_count": null,
   "metadata": {},
   "outputs": [],
   "source": [
    "# EdgeList"
   ]
  },
  {
   "cell_type": "code",
   "execution_count": null,
   "metadata": {},
   "outputs": [],
   "source": []
  },
  {
   "cell_type": "code",
   "execution_count": null,
   "metadata": {},
   "outputs": [],
   "source": []
  },
  {
   "cell_type": "code",
   "execution_count": null,
   "metadata": {},
   "outputs": [],
   "source": []
  },
  {
   "cell_type": "code",
   "execution_count": null,
   "metadata": {},
   "outputs": [],
   "source": []
  },
  {
   "cell_type": "code",
   "execution_count": null,
   "metadata": {},
   "outputs": [],
   "source": []
  },
  {
   "cell_type": "code",
   "execution_count": null,
   "metadata": {},
   "outputs": [],
   "source": []
  },
  {
   "cell_type": "code",
   "execution_count": null,
   "metadata": {},
   "outputs": [],
   "source": []
  },
  {
   "cell_type": "code",
   "execution_count": null,
   "metadata": {},
   "outputs": [],
   "source": []
  },
  {
   "cell_type": "code",
   "execution_count": null,
   "metadata": {},
   "outputs": [],
   "source": []
  },
  {
   "cell_type": "code",
   "execution_count": null,
   "metadata": {},
   "outputs": [],
   "source": []
  },
  {
   "cell_type": "code",
   "execution_count": null,
   "metadata": {},
   "outputs": [],
   "source": []
  },
  {
   "cell_type": "code",
   "execution_count": null,
   "metadata": {},
   "outputs": [],
   "source": []
  },
  {
   "cell_type": "markdown",
   "metadata": {},
   "source": [
    "# For Variable Number of SFC Requests"
   ]
  },
  {
   "cell_type": "code",
   "execution_count": null,
   "metadata": {},
   "outputs": [],
   "source": [
    "num_edges = 21\n",
    "num_nodes = 14\n",
    "oper_costs = range(5,11)\n",
    "num_cnfNumber = 4\n",
    "num_sfcRequests = 21\n",
    "end_delays = range(30,51)\n",
    "cpu_bounds = range(10,15+1)           #(4,6+1)\n",
    "bandwidth_bounds = range(4,6+1)\n",
    "cnfCPU = {1 : 14.32 , 2 : 15.25, 3 : 13.87, 4 : 13.27, 0: 14}\n",
    "\n",
    "EdgeList=[]\n",
    "while len(EdgeList)<21:\n",
    "    n1 = random.choice(range(0,num_nodes))\n",
    "    n2 = random.choice(range(0,num_nodes))\n",
    "    if(n1 == n2):\n",
    "        continue\n",
    "    elif(n1<n2):\n",
    "        EdgeList.append((n1,n2))\n",
    "    else:\n",
    "        if((n2,n1) not in EdgeList):\n",
    "            EdgeList.append((n2,n1))\n",
    "\n",
    "L = {}\n",
    "for (a,b) in EdgeList:\n",
    "    L[a,b] = random.choice(range(1,8))\n",
    "\n",
    "init_cpu = 100\n",
    "init_bandwidth = 100\n",
    "# init_operationalCost = [ random.choice(oper_costs) for i in range(num_nodes)]\n",
    "init_operationalCost = [10, 5, 8, 5, 6, 8, 10, 6, 9, 5, 7, 8, 5, 9]\n",
    "init_endDelay = [random.choice(end_delays) for i in range(num_sfcRequests)]\n",
    "init_bandwidthReq = [random.choice(bandwidth_bounds) for i in range(num_sfcRequests)]\n",
    "\n",
    "init_cpuReq = {}\n",
    "for i in range(num_sfcRequests):\n",
    "    for j in range(num_cnfNumber):\n",
    "        try:\n",
    "            init_cpuReq[i,j] = cnfCPU[j]/3\n",
    "        except:\n",
    "            init_cpuReq[i,j] = random.choice(cpu_bounds)/3"
   ]
  },
  {
   "cell_type": "code",
   "execution_count": null,
   "metadata": {},
   "outputs": [],
   "source": [
    "init_endDelays = init_endDelay\n",
    "init_bandwidthReqs = init_bandwidthReq \n",
    "init_cpuReqs = init_cpuReq"
   ]
  },
  {
   "cell_type": "code",
   "execution_count": null,
   "metadata": {},
   "outputs": [],
   "source": [
    "OperationalCosts = {}"
   ]
  },
  {
   "cell_type": "code",
   "execution_count": null,
   "metadata": {},
   "outputs": [],
   "source": [
    "for num_sfcRequests in reversed(range(1,21)):\n",
    "    init_endDelay = init_endDelays[0:num_sfcRequests]\n",
    "    init_bandwidthReq = init_bandwidthReqs[0:num_sfcRequests]\n",
    "    init_cpuReq = {}\n",
    "    for i in range(num_sfcRequests):\n",
    "        for j in range(num_cnfNumber):\n",
    "            init_cpuReq[i,j] = init_cpuReqs[i,j]\n",
    "    model = pyo.ConcreteModel()\n",
    "\n",
    "    model.set_cnfNumber = pyo.RangeSet(0,num_cnfNumber-1) # j {0,1,2,3,4}\n",
    "    model.set_sfcRequests = pyo.RangeSet(0,num_sfcRequests-1) # i {0,1,2} \n",
    "\n",
    "    # 14 nodes and 21 edges - NSFNET\n",
    "    model.set_nodes = pyo.RangeSet(0,num_nodes-1) # v (0,1,...,13)\n",
    "    model.set_edges = pyo.RangeSet(0,num_edges-1) # (u,v) (0,1,...,21)\n",
    "\n",
    "    # Variables and Parameters\n",
    "\n",
    "    # L - to be done\n",
    "\n",
    "    model.y = pyo.Var(model.set_sfcRequests, model.set_cnfNumber,model.set_nodes,domain=pyo.Binary)\n",
    "\n",
    "    model.z = pyo.Var(model.set_sfcRequests, model.set_edges, domain=pyo.Binary)\n",
    "\n",
    "    model.C = pyo.Param(model.set_nodes, initialize=init_cpu)\n",
    "\n",
    "    model.B = pyo.Param(model.set_edges, initialize=init_bandwidth)\n",
    "\n",
    "    model.W = pyo.Param(model.set_nodes, initialize=init_operationalCost)\n",
    "\n",
    "    model.l = pyo.Param(model.set_sfcRequests, initialize=init_endDelay)\n",
    "\n",
    "    model.c = pyo.Param(model.set_sfcRequests, model.set_cnfNumber, initialize=init_cpuReq)\n",
    "\n",
    "    model.b = pyo.Param(model.set_sfcRequests, initialize=init_bandwidthReq)\n",
    "\n",
    "    y = model.y\n",
    "    z = model.z\n",
    "    C = model.C\n",
    "    B = model.B\n",
    "    W = model.W\n",
    "    l = model.l\n",
    "    c = model.c\n",
    "    b = model.b\n",
    "\n",
    "    # Constraints\n",
    "\n",
    "    model.cpuConstraint = pyo.ConstraintList()\n",
    "    for v in range(num_nodes):\n",
    "         model.cpuConstraint.add(\n",
    "             expr=sum(sum(y[i,j,v]*c[i,j] for j in range(num_cnfNumber)) for i in range(num_sfcRequests)) <= C[v]\n",
    "         )\n",
    "\n",
    "    model.bandwidthConstraint = pyo.ConstraintList()\n",
    "    for _,e in enumerate(EdgeList):\n",
    "        model.bandwidthConstraint.add(\n",
    "            expr=sum(z[i,_]*b[i] for i in range(num_sfcRequests)) <= B[_]\n",
    "        )\n",
    "\n",
    "    model.delayConstraint = pyo.ConstraintList()\n",
    "    # for _,e in enumerate(EdgeList):\n",
    "    for i in range(num_sfcRequests):\n",
    "        model.delayConstraint.add(\n",
    "            expr=sum(z[i,_]*L[EdgeList[_][0],EdgeList[_][1]] for _ in range(num_edges)) <= l[i]\n",
    "        )\n",
    "        \n",
    "    model.placementConstraint = pyo.ConstraintList()\n",
    "    for i in range(num_sfcRequests):\n",
    "        for j in range(num_cnfNumber):\n",
    "            model.placementConstraint.add(\n",
    "                expr=sum(y[i,j,v] for v in range(num_nodes)) == 1\n",
    "            )\n",
    "\n",
    "    # Objective Function\n",
    "\n",
    "    model.objective = pyo.Objective(\n",
    "        expr=sum(\n",
    "                sum(\n",
    "                    sum(y[i,j,v]*c[i,j]*W[v] for v in range(num_nodes))\n",
    "                    for j in range(num_cnfNumber)\n",
    "                )\n",
    "            for i in range(num_sfcRequests)\n",
    "        ), sense=minimize\n",
    "    )\n",
    "\n",
    "    # Solving the Model using IBM Cplex\n",
    "\n",
    "    optimizer = SolverFactory('cplex')\n",
    "\n",
    "    optimizer.solve(model)\n",
    "\n",
    "    # Printing the outputs\n",
    "\n",
    "    Oper_cost = sum(\n",
    "                    sum(\n",
    "                        sum(y[i,j,v]*c[i,j]*W[v] for v in range(num_nodes))\n",
    "                        for j in range(num_cnfNumber)\n",
    "                    )\n",
    "                for i in range(num_sfcRequests)\n",
    "        )\n",
    "\n",
    "    print(\"Operational Cost of the current setting: \",pyo.value(Oper_cost))\n",
    "    OperationalCosts[num_sfcRequests] = pyo.value(Oper_cost)\n",
    "    \n",
    "    \n",
    "    print(\"================== \",num_sfcRequests,\" =================\")\n",
    "    for i in range(num_sfcRequests):\n",
    "        for j in range(num_cnfNumber):\n",
    "            for v in range(num_nodes):\n",
    "                if(pyo.value(y[i,j,v])):\n",
    "                    print(i,j,v)"
   ]
  },
  {
   "cell_type": "code",
   "execution_count": null,
   "metadata": {},
   "outputs": [],
   "source": [
    "OperationalCosts"
   ]
  },
  {
   "cell_type": "code",
   "execution_count": null,
   "metadata": {},
   "outputs": [],
   "source": []
  },
  {
   "cell_type": "code",
   "execution_count": null,
   "metadata": {},
   "outputs": [],
   "source": [
    "plt.plot(OperationalCosts.keys(),OperationalCosts.values(),'-o')"
   ]
  },
  {
   "cell_type": "code",
   "execution_count": null,
   "metadata": {},
   "outputs": [],
   "source": [
    "plt.show()"
   ]
  },
  {
   "cell_type": "code",
   "execution_count": null,
   "metadata": {},
   "outputs": [],
   "source": []
  },
  {
   "cell_type": "code",
   "execution_count": null,
   "metadata": {},
   "outputs": [],
   "source": []
  },
  {
   "cell_type": "code",
   "execution_count": null,
   "metadata": {},
   "outputs": [],
   "source": []
  },
  {
   "cell_type": "code",
   "execution_count": null,
   "metadata": {},
   "outputs": [],
   "source": []
  },
  {
   "cell_type": "code",
   "execution_count": null,
   "metadata": {},
   "outputs": [],
   "source": []
  },
  {
   "cell_type": "code",
   "execution_count": null,
   "metadata": {},
   "outputs": [],
   "source": []
  },
  {
   "cell_type": "code",
   "execution_count": null,
   "metadata": {},
   "outputs": [],
   "source": []
  },
  {
   "cell_type": "code",
   "execution_count": null,
   "metadata": {},
   "outputs": [],
   "source": []
  },
  {
   "cell_type": "code",
   "execution_count": null,
   "metadata": {},
   "outputs": [],
   "source": []
  },
  {
   "cell_type": "code",
   "execution_count": null,
   "metadata": {},
   "outputs": [],
   "source": []
  },
  {
   "cell_type": "code",
   "execution_count": null,
   "metadata": {},
   "outputs": [],
   "source": []
  },
  {
   "cell_type": "code",
   "execution_count": null,
   "metadata": {},
   "outputs": [],
   "source": []
  },
  {
   "cell_type": "code",
   "execution_count": null,
   "metadata": {},
   "outputs": [],
   "source": []
  },
  {
   "cell_type": "code",
   "execution_count": null,
   "metadata": {},
   "outputs": [],
   "source": []
  },
  {
   "cell_type": "code",
   "execution_count": null,
   "metadata": {},
   "outputs": [],
   "source": [
    "model.pprint()"
   ]
  },
  {
   "cell_type": "code",
   "execution_count": null,
   "metadata": {},
   "outputs": [],
   "source": []
  },
  {
   "cell_type": "code",
   "execution_count": null,
   "metadata": {},
   "outputs": [],
   "source": []
  },
  {
   "cell_type": "code",
   "execution_count": null,
   "metadata": {},
   "outputs": [],
   "source": []
  },
  {
   "cell_type": "code",
   "execution_count": null,
   "metadata": {},
   "outputs": [],
   "source": []
  },
  {
   "cell_type": "code",
   "execution_count": null,
   "metadata": {},
   "outputs": [],
   "source": []
  },
  {
   "cell_type": "code",
   "execution_count": null,
   "metadata": {},
   "outputs": [],
   "source": []
  },
  {
   "cell_type": "code",
   "execution_count": null,
   "metadata": {},
   "outputs": [],
   "source": []
  },
  {
   "cell_type": "code",
   "execution_count": null,
   "metadata": {},
   "outputs": [],
   "source": []
  },
  {
   "cell_type": "code",
   "execution_count": null,
   "metadata": {},
   "outputs": [],
   "source": []
  },
  {
   "cell_type": "code",
   "execution_count": null,
   "metadata": {},
   "outputs": [],
   "source": []
  },
  {
   "cell_type": "code",
   "execution_count": null,
   "metadata": {},
   "outputs": [],
   "source": []
  },
  {
   "cell_type": "code",
   "execution_count": null,
   "metadata": {},
   "outputs": [],
   "source": []
  },
  {
   "cell_type": "code",
   "execution_count": null,
   "metadata": {},
   "outputs": [],
   "source": []
  },
  {
   "cell_type": "code",
   "execution_count": null,
   "metadata": {},
   "outputs": [],
   "source": []
  },
  {
   "cell_type": "code",
   "execution_count": null,
   "metadata": {},
   "outputs": [],
   "source": [
    "# model.param_heatDemand_In_W = pyo.Param(model.set_buildings_BT1, model.set_timeslots, mutable = True, initialize=init_heatDemand)\n",
    "\n",
    "# model.variable_heatGenerationCoefficient_SpaceHeating = pyo.Var(model.set_buildings_BT1, model.set_timeslots,bounds=(0,1))\n",
    "# model.variable_temperatureBufferStorage = pyo.Var(model.set_buildings_BT1, model.set_timeslots,  bounds=(0 , 20 ))"
   ]
  },
  {
   "cell_type": "code",
   "execution_count": null,
   "metadata": {},
   "outputs": [],
   "source": [
    "# model = pyo.ConcreteModel()\n",
    "\n",
    "# model.x = pyo.Var(bounds=(0,10))\n",
    "# model.y = pyo.Var(bounds=(0,10))\n",
    "# x = model.x\n",
    "# y = model.y\n",
    "\n",
    "# model.C1 = pyo.Constraint(expr= -x+2*y<=8)\n",
    "# model.C2 = pyo.Constraint(expr= 2*x+y<=14)\n",
    "# model.C3 = pyo.Constraint(expr= 2*x-y<=10)\n",
    "\n",
    "# model.obj = pyo.Objective(expr= x+y, sense=maximize)\n",
    "\n",
    "# opt = SolverFactory('cplex')\n",
    "# opt.solve(model)\n",
    "\n",
    "# model.pprint()\n",
    "\n",
    "# x_value = pyo.value(x)\n",
    "# y_value = pyo.value(y)\n",
    "\n",
    "# print('\\n---------------------------------------------------------------------')\n",
    "# print('x=',x_value)\n",
    "# print('y=',y_value)"
   ]
  },
  {
   "cell_type": "code",
   "execution_count": null,
   "metadata": {},
   "outputs": [],
   "source": [
    "# model = pyo.ConcreteModel()\n",
    "\n",
    "# model.x = pyo.Var(bounds=(None,3))\n",
    "# model.y = pyo.Var(bounds=(0,None))\n",
    "# x = model.x\n",
    "# y = model.y\n",
    "\n",
    "# model.C1 = pyo.Constraint(expr = x+y<=8)\n",
    "# model.C2 = pyo.Constraint(expr = 8*x+3*y>=-24)\n",
    "# model.C3 = pyo.Constraint(expr = -6*x+8*y<=48)\n",
    "# model.C4 = pyo.Constraint(expr = 3*x+5*y<=15)\n",
    "\n",
    "# model.obj = pyo.Objective(expr= -4*x+-2*y, sense=minimize)\n"
   ]
  },
  {
   "cell_type": "code",
   "execution_count": null,
   "metadata": {},
   "outputs": [],
   "source": [
    "# opt = SolverFactory('cplex')\n",
    "# opt.solve(model)\n",
    "\n",
    "# model.pprint()\n",
    "\n",
    "# x_value = pyo.value(x)\n",
    "# y_value = pyo.value(y)\n",
    "\n",
    "# print('\\n---------------------------------------------------------------------')\n",
    "# print('x=',x_value)\n",
    "# print('y=',y_value)"
   ]
  }
 ],
 "metadata": {
  "kernelspec": {
   "display_name": "Python 3.8.10 64-bit",
   "language": "python",
   "name": "python3"
  },
  "language_info": {
   "codemirror_mode": {
    "name": "ipython",
    "version": 3
   },
   "file_extension": ".py",
   "mimetype": "text/x-python",
   "name": "python",
   "nbconvert_exporter": "python",
   "pygments_lexer": "ipython3",
   "version": "3.8.10"
  },
  "vscode": {
   "interpreter": {
    "hash": "31f2aee4e71d21fbe5cf8b01ff0e069b9275f58929596ceb00d14d90e3e16cd6"
   }
  }
 },
 "nbformat": 4,
 "nbformat_minor": 5
}
